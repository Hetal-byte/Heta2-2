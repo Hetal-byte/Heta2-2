{
  "nbformat": 4,
  "nbformat_minor": 0,
  "metadata": {
    "colab": {
      "provenance": [],
      "authorship_tag": "ABX9TyPn3vkj6UHte78eJqt9a6GX",
      "include_colab_link": true
    },
    "kernelspec": {
      "name": "python3",
      "display_name": "Python 3"
    },
    "language_info": {
      "name": "python"
    }
  },
  "cells": [
    {
      "cell_type": "markdown",
      "metadata": {
        "id": "view-in-github",
        "colab_type": "text"
      },
      "source": [
        "<a href=\"https://colab.research.google.com/github/Hetal-byte/Heta2-2/blob/main/svm.ipynb\" target=\"_parent\"><img src=\"https://colab.research.google.com/assets/colab-badge.svg\" alt=\"Open In Colab\"/></a>"
      ]
    },
    {
      "cell_type": "code",
      "execution_count": 1,
      "metadata": {
        "id": "FBQVbRmslQ54"
      },
      "outputs": [],
      "source": [
        "import pandas as pd\n",
        "import numpy as np\n",
        "from sklearn.feature_extraction.text import CountVectorizer, TfidfVectorizer # Changed 'CountVerctorizer' to 'CountVectorizer'\n",
        "from sklearn.preprocessing import StandardScaler\n",
        "from sklearn import svm\n",
        "from sklearn.svm import SVC\n",
        "from sklearn.model_selection import GridSearchCV\n",
        "from sklearn.metrics import classification_report\n",
        "from sklearn.metrics import accuracy_score, confusion_matrix\n",
        "from sklearn.model_selection import train_test_split, cross_val_score\n"
      ]
    },
    {
      "cell_type": "code",
      "source": [
        "filename=r'/content/pima-indians-diabetes.data.csv'\n",
        "names=['preg','plas','pres','skin','test','mass','pedi','age','class']\n",
        "dataframe=pd.read_csv(filename,names=names)\n",
        "array=dataframe.values\n",
        "X=array[:,0:8]\n",
        "Y=array[:,8]"
      ],
      "metadata": {
        "id": "8f854bjhlVS5"
      },
      "execution_count": 2,
      "outputs": []
    },
    {
      "cell_type": "code",
      "source": [
        "X_train,X_test,y_train,y_test=train_test_split(X,Y,test_size=0.3)"
      ],
      "metadata": {
        "id": "JU0PGzuslZr5"
      },
      "execution_count": 3,
      "outputs": []
    },
    {
      "cell_type": "code",
      "source": [
        "svc=SVC()\n",
        "param_grid={\n",
        "    'C':[0,1,1,10],\n",
        "    'gamma':[0.01,0.1,1],\n",
        "    'kernel':['linear','rbf']}\n",
        "grid_search=GridSearchCV(svc,param_grid,cv=5)\n",
        "grid_search.fit(X_train,y_train)\n",
        "print(\"Best Parameters:\",grid_search.best_params_)\n",
        "print(\"Best Score:\",grid_search.best_score_)"
      ],
      "metadata": {
        "id": "5M0OPXszlcfw"
      },
      "execution_count": null,
      "outputs": []
    },
    {
      "cell_type": "code",
      "source": [
        "clf =SVC()\n",
        "param_grid = [{'kernel':['rbf'],'gamma':[50,5,10,0.5],'C':[15,14,13,12,11,10,0.1,0.01]}]\n",
        "gsv = GridSearchCV(clf,param_grid,cv=10)\n",
        "gsv.fit(X_train,y_train)"
      ],
      "metadata": {
        "id": "sxdML0Y2l-Ai"
      },
      "execution_count": null,
      "outputs": []
    },
    {
      "cell_type": "code",
      "source": [
        "gsv.best_params_ , gsv.best_score_"
      ],
      "metadata": {
        "id": "OhaoyfAwnT8_"
      },
      "execution_count": null,
      "outputs": []
    },
    {
      "cell_type": "code",
      "source": [
        "clf = SVC(C= 15 , gamma = 50)\n",
        "clf.fit(X_train , y_train)\n",
        "y_pred = clf.predict(X_test)\n",
        "acc = accuracy_score(y_test, y_pred) * 100\n",
        "print(\"Accuracy =\", acc)\n",
        "confusion_matrix(y_test, y_pred)"
      ],
      "metadata": {
        "id": "q9QqEdvqn61w"
      },
      "execution_count": null,
      "outputs": []
    },
    {
      "cell_type": "code",
      "source": [
        "import pandas as pd\n",
        "import numpy as np\n",
        "from sklearn.model_selection import train_test_split, GridSearchCV\n",
        "from sklearn.svm import SVR\n",
        "from sklearn.metrics import mean_squared_error\n",
        "file_path = r'/content/pima-indians-diabetes.data.csv'\n",
        "column_names = ['preg', 'plas', 'pres', 'skin', 'test', 'mass', 'pedi', 'age', 'class']\n",
        "data = pd.read_csv(file_path,header=None,names=column_names)\n",
        "print(data.head())\n",
        "X=data.drop('class',axis=1)\n",
        "y=data['class']\n",
        "X_train,X_test,y_train,y_test=train_test_split(X,y,test_size=0.20,random_state=42)\n",
        "svr=SVR()\n",
        "param_grid={\n",
        "    'C':[0.1,1,10,100],\n",
        "    'gamma':[1,0.1,0.01,0.001],\n",
        "    'kernel':['linear','rbf']\n",
        "}\n",
        "grid_search = GridSearchCV(estimator=svr,param_grid=param_grid,cv=5,scoring = 'neg_mean_squared_error')\n",
        "grid_search.fit(X_train,y_train)\n",
        "print(\"Best Parameters:\",grid_search.best_params_)\n",
        "print(\"Best cross-validation score(negative MSE):\",grid_search.best_score_)\n",
        "best_model = grid_search.best_estimator_\n",
        "y_pred = best_model.predict(X_test)\n",
        "mse = mean_squared_error(y_test,y_pred)\n",
        "print(\"Mean Squared Error:\",mse)"
      ],
      "metadata": {
        "id": "20_5z_n7oeKY"
      },
      "execution_count": null,
      "outputs": []
    },
    {
      "cell_type": "code",
      "source": [],
      "metadata": {
        "id": "G6gZwFDTv3LH"
      },
      "execution_count": null,
      "outputs": []
    }
  ]
}