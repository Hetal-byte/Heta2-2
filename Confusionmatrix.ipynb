{
  "nbformat": 4,
  "nbformat_minor": 0,
  "metadata": {
    "colab": {
      "provenance": [],
      "authorship_tag": "ABX9TyNlEf9W0WN+TLdtmgVOyHPF",
      "include_colab_link": true
    },
    "kernelspec": {
      "name": "python3",
      "display_name": "Python 3"
    },
    "language_info": {
      "name": "python"
    }
  },
  "cells": [
    {
      "cell_type": "markdown",
      "metadata": {
        "id": "view-in-github",
        "colab_type": "text"
      },
      "source": [
        "<a href=\"https://colab.research.google.com/github/Hetal-byte/Heta2-2/blob/main/Confusionmatrix.ipynb\" target=\"_parent\"><img src=\"https://colab.research.google.com/assets/colab-badge.svg\" alt=\"Open In Colab\"/></a>"
      ]
    },
    {
      "cell_type": "code",
      "execution_count": null,
      "metadata": {
        "id": "zYIUh5FPS9v9"
      },
      "outputs": [],
      "source": [
        "from sklearn import metrics"
      ]
    },
    {
      "cell_type": "code",
      "source": [
        "C='Cat'\n",
        "D='Dog'\n",
        "F='Fox'\n",
        "H='Hathi'"
      ],
      "metadata": {
        "id": "FThnTTK0TF2b"
      },
      "execution_count": null,
      "outputs": []
    },
    {
      "cell_type": "code",
      "source": [
        "y_true = [C,C,C,C,F,F,F,F,F,F,F,F,F,F,F,D,D,D,D,D,D,H,H,H,H,H,H]\n",
        "x_true = [C,C,C,C,F,F,F,F,F,F,F,F,F,F,F,D,D,D,D,D,D,H,H,H,H,H,H]"
      ],
      "metadata": {
        "id": "6UCFQxccTRQT"
      },
      "execution_count": null,
      "outputs": []
    },
    {
      "cell_type": "code",
      "source": [
        "print(metrics.confusion_matrix(y_true,x_true))"
      ],
      "metadata": {
        "colab": {
          "base_uri": "https://localhost:8080/"
        },
        "id": "PNUvCM8cTvTQ",
        "outputId": "8ffbb53a-aae8-4842-9ac4-b0730c939809"
      },
      "execution_count": null,
      "outputs": [
        {
          "output_type": "stream",
          "name": "stdout",
          "text": [
            "[[ 4  0  0  0]\n",
            " [ 0  6  0  0]\n",
            " [ 0  0 11  0]\n",
            " [ 0  0  0  6]]\n"
          ]
        }
      ]
    },
    {
      "cell_type": "code",
      "source": [
        "print(metrics.classification_report(y_true,x_true,digits=3))"
      ],
      "metadata": {
        "colab": {
          "base_uri": "https://localhost:8080/"
        },
        "id": "-MujOVBwT7_B",
        "outputId": "8671e939-b39b-4d0f-f8b9-1853b817e159"
      },
      "execution_count": null,
      "outputs": [
        {
          "output_type": "stream",
          "name": "stdout",
          "text": [
            "              precision    recall  f1-score   support\n",
            "\n",
            "         Cat      1.000     1.000     1.000         4\n",
            "         Dog      1.000     1.000     1.000         6\n",
            "         Fox      1.000     1.000     1.000        11\n",
            "       Hathi      1.000     1.000     1.000         6\n",
            "\n",
            "    accuracy                          1.000        27\n",
            "   macro avg      1.000     1.000     1.000        27\n",
            "weighted avg      1.000     1.000     1.000        27\n",
            "\n"
          ]
        }
      ]
    },
    {
      "cell_type": "code",
      "source": [],
      "metadata": {
        "id": "RQvx6ulyUy4c"
      },
      "execution_count": null,
      "outputs": []
    }
  ]
}