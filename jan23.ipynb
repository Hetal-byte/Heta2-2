{
  "nbformat": 4,
  "nbformat_minor": 0,
  "metadata": {
    "colab": {
      "provenance": [],
      "include_colab_link": true
    },
    "kernelspec": {
      "name": "python3",
      "display_name": "Python 3"
    },
    "language_info": {
      "name": "python"
    }
  },
  "cells": [
    {
      "cell_type": "markdown",
      "metadata": {
        "id": "view-in-github",
        "colab_type": "text"
      },
      "source": [
        "<a href=\"https://colab.research.google.com/github/Hetal-byte/Heta2-2/blob/main/jan23.ipynb\" target=\"_parent\"><img src=\"https://colab.research.google.com/assets/colab-badge.svg\" alt=\"Open In Colab\"/></a>"
      ]
    },
    {
      "cell_type": "code",
      "execution_count": null,
      "metadata": {
        "colab": {
          "base_uri": "https://localhost:8080/"
        },
        "id": "RNVBZpx-VDoM",
        "outputId": "cf56c5ff-57a8-48d4-f207-fe567a912b2e"
      },
      "outputs": [
        {
          "output_type": "stream",
          "name": "stdout",
          "text": [
            "Original Dataframe with Missing values:\n",
            "    Age  Height  HelmetStatus Gender  Experience\n",
            "0  25.0     5.5           1.0      M         2.0\n",
            "1   NaN     6.1           NaN      F         4.0\n",
            "2  30.0     5.9           0.0      M         6.0\n",
            "3  35.0     NaN           1.0   None         1.0\n",
            "4   NaN     5.8           1.0      F         NaN\n",
            "5   4.5     5.2           NaN      M         NaN\n",
            "\n",
            "DataFrame after filling missing values with mean:\n",
            "      Age  Height  HelmetStatus Gender  Experience\n",
            "0  25.000     5.5           1.0      M        2.00\n",
            "1  23.625     6.1           NaN      F        4.00\n",
            "2  30.000     5.9           0.0      M        6.00\n",
            "3  35.000     5.7           1.0   None        1.00\n",
            "4  23.625     5.8           1.0      F        3.25\n",
            "5   4.500     5.2           NaN      M        3.25\n",
            "\n",
            "DataFrame after filling missing values with median:\n",
            "    Age  Height  HelmetStatus Gender  Experience\n",
            "0  25.0     5.5           1.0      M         2.0\n",
            "1  27.5     6.1           NaN      F         4.0\n",
            "2  30.0     5.9           0.0      M         6.0\n",
            "3  35.0     5.8           1.0   None         1.0\n",
            "4  27.5     5.8           1.0      F         3.0\n",
            "5   4.5     5.2           NaN      M         3.0\n",
            "\n",
            "DataFrame after filling missing values with mode:\n",
            "    Age  Height  HelmetStatus Gender  Experience\n",
            "0  25.0     5.5           1.0      M         2.0\n",
            "1   NaN     6.1           1.0      F         4.0\n",
            "2  30.0     5.9           0.0      M         6.0\n",
            "3  35.0     NaN           1.0      M         1.0\n",
            "4   NaN     5.8           1.0      F         NaN\n",
            "5   4.5     5.2           1.0      M         NaN\n"
          ]
        },
        {
          "output_type": "stream",
          "name": "stderr",
          "text": [
            "<ipython-input-10-a4128f9bf2b1>:20: FutureWarning: A value is trying to be set on a copy of a DataFrame or Series through chained assignment using an inplace method.\n",
            "The behavior will change in pandas 3.0. This inplace method will never work because the intermediate object on which we are setting values always behaves as a copy.\n",
            "\n",
            "For example, when doing 'df[col].method(value, inplace=True)', try using 'df.method({col: value}, inplace=True)' or df[col] = df[col].method(value) instead, to perform the operation inplace on the original object.\n",
            "\n",
            "\n",
            "  df_filled_mean['Age'].fillna(df['Age'].mean(), inplace=True)\n",
            "<ipython-input-10-a4128f9bf2b1>:21: FutureWarning: A value is trying to be set on a copy of a DataFrame or Series through chained assignment using an inplace method.\n",
            "The behavior will change in pandas 3.0. This inplace method will never work because the intermediate object on which we are setting values always behaves as a copy.\n",
            "\n",
            "For example, when doing 'df[col].method(value, inplace=True)', try using 'df.method({col: value}, inplace=True)' or df[col] = df[col].method(value) instead, to perform the operation inplace on the original object.\n",
            "\n",
            "\n",
            "  df_filled_mean['Height'].fillna(df['Height'].mean(), inplace=True)\n",
            "<ipython-input-10-a4128f9bf2b1>:22: FutureWarning: A value is trying to be set on a copy of a DataFrame or Series through chained assignment using an inplace method.\n",
            "The behavior will change in pandas 3.0. This inplace method will never work because the intermediate object on which we are setting values always behaves as a copy.\n",
            "\n",
            "For example, when doing 'df[col].method(value, inplace=True)', try using 'df.method({col: value}, inplace=True)' or df[col] = df[col].method(value) instead, to perform the operation inplace on the original object.\n",
            "\n",
            "\n",
            "  df_filled_mean['Experience'].fillna(df['Experience'].mean(), inplace=True)\n",
            "<ipython-input-10-a4128f9bf2b1>:24: FutureWarning: A value is trying to be set on a copy of a DataFrame or Series through chained assignment using an inplace method.\n",
            "The behavior will change in pandas 3.0. This inplace method will never work because the intermediate object on which we are setting values always behaves as a copy.\n",
            "\n",
            "For example, when doing 'df[col].method(value, inplace=True)', try using 'df.method({col: value}, inplace=True)' or df[col] = df[col].method(value) instead, to perform the operation inplace on the original object.\n",
            "\n",
            "\n",
            "  df_filled_median['Age'].fillna(df['Age'].median(), inplace=True)\n",
            "<ipython-input-10-a4128f9bf2b1>:25: FutureWarning: A value is trying to be set on a copy of a DataFrame or Series through chained assignment using an inplace method.\n",
            "The behavior will change in pandas 3.0. This inplace method will never work because the intermediate object on which we are setting values always behaves as a copy.\n",
            "\n",
            "For example, when doing 'df[col].method(value, inplace=True)', try using 'df.method({col: value}, inplace=True)' or df[col] = df[col].method(value) instead, to perform the operation inplace on the original object.\n",
            "\n",
            "\n",
            "  df_filled_median['Height'].fillna(df['Height'].median(), inplace=True)\n",
            "<ipython-input-10-a4128f9bf2b1>:26: FutureWarning: A value is trying to be set on a copy of a DataFrame or Series through chained assignment using an inplace method.\n",
            "The behavior will change in pandas 3.0. This inplace method will never work because the intermediate object on which we are setting values always behaves as a copy.\n",
            "\n",
            "For example, when doing 'df[col].method(value, inplace=True)', try using 'df.method({col: value}, inplace=True)' or df[col] = df[col].method(value) instead, to perform the operation inplace on the original object.\n",
            "\n",
            "\n",
            "  df_filled_median['Experience'].fillna(df['Experience'].median(), inplace=True)\n",
            "<ipython-input-10-a4128f9bf2b1>:28: FutureWarning: A value is trying to be set on a copy of a DataFrame or Series through chained assignment using an inplace method.\n",
            "The behavior will change in pandas 3.0. This inplace method will never work because the intermediate object on which we are setting values always behaves as a copy.\n",
            "\n",
            "For example, when doing 'df[col].method(value, inplace=True)', try using 'df.method({col: value}, inplace=True)' or df[col] = df[col].method(value) instead, to perform the operation inplace on the original object.\n",
            "\n",
            "\n",
            "  df_filled_mode['Gender'].fillna(df['Gender'].mode()[0], inplace=True)\n",
            "<ipython-input-10-a4128f9bf2b1>:29: FutureWarning: A value is trying to be set on a copy of a DataFrame or Series through chained assignment using an inplace method.\n",
            "The behavior will change in pandas 3.0. This inplace method will never work because the intermediate object on which we are setting values always behaves as a copy.\n",
            "\n",
            "For example, when doing 'df[col].method(value, inplace=True)', try using 'df.method({col: value}, inplace=True)' or df[col] = df[col].method(value) instead, to perform the operation inplace on the original object.\n",
            "\n",
            "\n",
            "  df_filled_mode['HelmetStatus'].fillna(df['HelmetStatus'].mode()[0], inplace=True)\n"
          ]
        }
      ],
      "source": [
        "import pandas as pd\n",
        "\n",
        "data = {\n",
        "    'Age': [25, None, 30, 35, None, 4.5],\n",
        "    'Height': [5.5, 6.1, 5.9, None, 5.8, 5.2],\n",
        "    'HelmetStatus': [1, None, 0, 1, 1, None],  # Added None to make it 6 elements\n",
        "    'Gender': ['M', 'F', 'M', None, 'F', 'M'],\n",
        "    'Experience': [2, 4, 6, 1, None, None],\n",
        "}\n",
        "\n",
        "df = pd.DataFrame(data)\n",
        "print(\"Original Dataframe with Missing values:\")\n",
        "print(df)\n",
        "\n",
        "# Create copies of the DataFrame for different filling methods\n",
        "df_filled_mean = df.copy()\n",
        "df_filled_median = df.copy()\n",
        "df_filled_mode = df.copy()\n",
        "\n",
        "df_filled_mean['Age'].fillna(df['Age'].mean(), inplace=True)\n",
        "df_filled_mean['Height'].fillna(df['Height'].mean(), inplace=True)\n",
        "df_filled_mean['Experience'].fillna(df['Experience'].mean(), inplace=True)\n",
        "\n",
        "df_filled_median['Age'].fillna(df['Age'].median(), inplace=True)\n",
        "df_filled_median['Height'].fillna(df['Height'].median(), inplace=True)\n",
        "df_filled_median['Experience'].fillna(df['Experience'].median(), inplace=True)\n",
        "\n",
        "df_filled_mode['Gender'].fillna(df['Gender'].mode()[0], inplace=True)\n",
        "df_filled_mode['HelmetStatus'].fillna(df['HelmetStatus'].mode()[0], inplace=True)\n",
        "\n",
        "print(\"\\nDataFrame after filling missing values with mean:\")\n",
        "print(df_filled_mean)\n",
        "print(\"\\nDataFrame after filling missing values with median:\")\n",
        "print(df_filled_median)\n",
        "print(\"\\nDataFrame after filling missing values with mode:\")\n",
        "print(df_filled_mode)"
      ]
    },
    {
      "cell_type": "code",
      "source": [],
      "metadata": {
        "id": "Ll0gAj2YeDX5"
      },
      "execution_count": null,
      "outputs": []
    },
    {
      "cell_type": "code",
      "source": [],
      "metadata": {
        "id": "PRirFxsrDsra"
      },
      "execution_count": null,
      "outputs": []
    },
    {
      "cell_type": "code",
      "source": [
        "import pandas as pd\n",
        "data={\n",
        "    'Name':['Alice','Bob','Charlie','David','Eva'],\n",
        "    'Age':[25,30,22,28,35],\n",
        "    'City':['Hud','goa','banglore','hyd','chennai']\n",
        "}\n",
        "df=pd.DataFrame(data)\n",
        "print(\"Original Dataframe:\")\n",
        "print(df)\n",
        "duplicates=df[df.duplicated()]\n",
        "print(\"\\nDuplicate Rows:\")\n",
        "print(duplicates)\n",
        "df.drop_duplicates(inplace=True)\n",
        "print(\"\\nDataFrame after removing duplicates:\")\n",
        "print(df)"
      ],
      "metadata": {
        "colab": {
          "base_uri": "https://localhost:8080/",
          "height": 106
        },
        "id": "6EcBCkAigOT6",
        "outputId": "52ce78d2-207c-4af6-c6f0-e7ae045f9d54"
      },
      "execution_count": null,
      "outputs": [
        {
          "output_type": "error",
          "ename": "SyntaxError",
          "evalue": "invalid syntax (<ipython-input-11-a8f9704ad1de>, line 2)",
          "traceback": [
            "\u001b[0;36m  File \u001b[0;32m\"<ipython-input-11-a8f9704ad1de>\"\u001b[0;36m, line \u001b[0;32m2\u001b[0m\n\u001b[0;31m    data=\u001b[0m\n\u001b[0m         ^\u001b[0m\n\u001b[0;31mSyntaxError\u001b[0m\u001b[0;31m:\u001b[0m invalid syntax\n"
          ]
        }
      ]
    },
    {
      "cell_type": "code",
      "source": [],
      "metadata": {
        "id": "Yx5ufxpYgT_Z"
      },
      "execution_count": null,
      "outputs": []
    }
  ]
}